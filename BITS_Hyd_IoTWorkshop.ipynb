{
  "nbformat": 4,
  "nbformat_minor": 0,
  "metadata": {
    "colab": {
      "name": "BITS_Hyd_IoTWorkshop.ipynb",
      "provenance": []
    },
    "kernelspec": {
      "name": "python3",
      "display_name": "Python 3"
    },
    "language_info": {
      "name": "python"
    }
  },
  "cells": [
    {
      "cell_type": "code",
      "metadata": {
        "colab": {
          "base_uri": "https://localhost:8080/"
        },
        "id": "TzpnNi3tbtF9",
        "outputId": "d2b651ff-5539-43f9-e904-50460fa964e4"
      },
      "source": [
        "print ('Hello World!')"
      ],
      "execution_count": null,
      "outputs": [
        {
          "output_type": "stream",
          "text": [
            "Hello World!\n"
          ],
          "name": "stdout"
        }
      ]
    },
    {
      "cell_type": "code",
      "metadata": {
        "colab": {
          "base_uri": "https://localhost:8080/"
        },
        "id": "3A_Kusu4cg10",
        "outputId": "52312bb5-dedb-4381-8c4d-936f55922c7c"
      },
      "source": [
        "a=2\n",
        "b=3\n",
        "print(a+b)"
      ],
      "execution_count": null,
      "outputs": [
        {
          "output_type": "stream",
          "text": [
            "5\n"
          ],
          "name": "stdout"
        }
      ]
    },
    {
      "cell_type": "code",
      "metadata": {
        "colab": {
          "base_uri": "https://localhost:8080/"
        },
        "id": "2d00oDvacu-7",
        "outputId": "75552236-3f84-4338-ef41-73b4bbf82cae"
      },
      "source": [
        "pip install paho-mqtt"
      ],
      "execution_count": null,
      "outputs": [
        {
          "output_type": "stream",
          "text": [
            "Collecting paho-mqtt\n",
            "  Downloading paho-mqtt-1.5.1.tar.gz (101 kB)\n",
            "\u001b[?25l\r\u001b[K     |███▏                            | 10 kB 22.0 MB/s eta 0:00:01\r\u001b[K     |██████▍                         | 20 kB 29.2 MB/s eta 0:00:01\r\u001b[K     |█████████▋                      | 30 kB 16.8 MB/s eta 0:00:01\r\u001b[K     |████████████▉                   | 40 kB 12.3 MB/s eta 0:00:01\r\u001b[K     |████████████████                | 51 kB 5.5 MB/s eta 0:00:01\r\u001b[K     |███████████████████▎            | 61 kB 5.9 MB/s eta 0:00:01\r\u001b[K     |██████████████████████▌         | 71 kB 5.9 MB/s eta 0:00:01\r\u001b[K     |█████████████████████████▊      | 81 kB 6.0 MB/s eta 0:00:01\r\u001b[K     |█████████████████████████████   | 92 kB 6.1 MB/s eta 0:00:01\r\u001b[K     |████████████████████████████████| 101 kB 4.3 MB/s \n",
            "\u001b[?25hBuilding wheels for collected packages: paho-mqtt\n",
            "  Building wheel for paho-mqtt (setup.py) ... \u001b[?25l\u001b[?25hdone\n",
            "  Created wheel for paho-mqtt: filename=paho_mqtt-1.5.1-py3-none-any.whl size=61566 sha256=a25e282c2eb996f61a113fabf12e6d079d4fc33666f4bd7f5e35385d4c141556\n",
            "  Stored in directory: /root/.cache/pip/wheels/c9/be/2a/883db47312c70ef7ffcaff281f3294e3075f62da075474d4bb\n",
            "Successfully built paho-mqtt\n",
            "Installing collected packages: paho-mqtt\n",
            "Successfully installed paho-mqtt-1.5.1\n"
          ],
          "name": "stdout"
        }
      ]
    },
    {
      "cell_type": "code",
      "metadata": {
        "colab": {
          "base_uri": "https://localhost:8080/",
          "height": 1000
        },
        "id": "I3eud8CidZTJ",
        "outputId": "8898bcf3-1aa0-4c0e-8c80-ebbd38dd2c2a"
      },
      "source": [
        "# publishing task \n",
        "# publisher - client, subscriber - client, broker - server\n",
        "import paho.mqtt.client as mqtt\n",
        "import time\n",
        "# create a client object\n",
        "client=mqtt.Client()\n",
        "\n",
        "while True:\n",
        "  # connect with broker\n",
        "  client.connect('54.171.33.166',1883) # host, port\n",
        "  print('Broker Connected')\n",
        "\n",
        "  # Publish the message\n",
        "  client.publish('bits/hyd',\"Hi Hello, Madhu here!\") # topic, msg\n",
        "  time.sleep(1)"
      ],
      "execution_count": null,
      "outputs": [
        {
          "output_type": "stream",
          "text": [
            "Broker Connected\n",
            "Broker Connected\n",
            "Broker Connected\n",
            "Broker Connected\n",
            "Broker Connected\n",
            "Broker Connected\n",
            "Broker Connected\n",
            "Broker Connected\n",
            "Broker Connected\n",
            "Broker Connected\n",
            "Broker Connected\n",
            "Broker Connected\n",
            "Broker Connected\n",
            "Broker Connected\n",
            "Broker Connected\n",
            "Broker Connected\n",
            "Broker Connected\n",
            "Broker Connected\n",
            "Broker Connected\n",
            "Broker Connected\n",
            "Broker Connected\n",
            "Broker Connected\n",
            "Broker Connected\n",
            "Broker Connected\n",
            "Broker Connected\n",
            "Broker Connected\n",
            "Broker Connected\n",
            "Broker Connected\n",
            "Broker Connected\n",
            "Broker Connected\n",
            "Broker Connected\n",
            "Broker Connected\n",
            "Broker Connected\n",
            "Broker Connected\n",
            "Broker Connected\n",
            "Broker Connected\n",
            "Broker Connected\n",
            "Broker Connected\n",
            "Broker Connected\n",
            "Broker Connected\n",
            "Broker Connected\n",
            "Broker Connected\n",
            "Broker Connected\n",
            "Broker Connected\n",
            "Broker Connected\n",
            "Broker Connected\n",
            "Broker Connected\n",
            "Broker Connected\n",
            "Broker Connected\n",
            "Broker Connected\n",
            "Broker Connected\n",
            "Broker Connected\n",
            "Broker Connected\n",
            "Broker Connected\n",
            "Broker Connected\n",
            "Broker Connected\n",
            "Broker Connected\n",
            "Broker Connected\n",
            "Broker Connected\n",
            "Broker Connected\n",
            "Broker Connected\n",
            "Broker Connected\n",
            "Broker Connected\n",
            "Broker Connected\n",
            "Broker Connected\n",
            "Broker Connected\n",
            "Broker Connected\n",
            "Broker Connected\n",
            "Broker Connected\n",
            "Broker Connected\n",
            "Broker Connected\n",
            "Broker Connected\n",
            "Broker Connected\n",
            "Broker Connected\n",
            "Broker Connected\n",
            "Broker Connected\n",
            "Broker Connected\n",
            "Broker Connected\n",
            "Broker Connected\n",
            "Broker Connected\n",
            "Broker Connected\n",
            "Broker Connected\n",
            "Broker Connected\n",
            "Broker Connected\n",
            "Broker Connected\n",
            "Broker Connected\n",
            "Broker Connected\n",
            "Broker Connected\n",
            "Broker Connected\n",
            "Broker Connected\n",
            "Broker Connected\n",
            "Broker Connected\n",
            "Broker Connected\n",
            "Broker Connected\n",
            "Broker Connected\n",
            "Broker Connected\n",
            "Broker Connected\n",
            "Broker Connected\n",
            "Broker Connected\n",
            "Broker Connected\n",
            "Broker Connected\n",
            "Broker Connected\n",
            "Broker Connected\n",
            "Broker Connected\n",
            "Broker Connected\n",
            "Broker Connected\n",
            "Broker Connected\n",
            "Broker Connected\n",
            "Broker Connected\n",
            "Broker Connected\n",
            "Broker Connected\n",
            "Broker Connected\n",
            "Broker Connected\n",
            "Broker Connected\n",
            "Broker Connected\n",
            "Broker Connected\n",
            "Broker Connected\n",
            "Broker Connected\n",
            "Broker Connected\n",
            "Broker Connected\n",
            "Broker Connected\n",
            "Broker Connected\n",
            "Broker Connected\n",
            "Broker Connected\n",
            "Broker Connected\n",
            "Broker Connected\n",
            "Broker Connected\n",
            "Broker Connected\n",
            "Broker Connected\n",
            "Broker Connected\n",
            "Broker Connected\n",
            "Broker Connected\n",
            "Broker Connected\n",
            "Broker Connected\n",
            "Broker Connected\n",
            "Broker Connected\n",
            "Broker Connected\n",
            "Broker Connected\n",
            "Broker Connected\n",
            "Broker Connected\n",
            "Broker Connected\n",
            "Broker Connected\n",
            "Broker Connected\n",
            "Broker Connected\n",
            "Broker Connected\n",
            "Broker Connected\n",
            "Broker Connected\n",
            "Broker Connected\n",
            "Broker Connected\n",
            "Broker Connected\n",
            "Broker Connected\n",
            "Broker Connected\n",
            "Broker Connected\n",
            "Broker Connected\n",
            "Broker Connected\n",
            "Broker Connected\n",
            "Broker Connected\n",
            "Broker Connected\n"
          ],
          "name": "stdout"
        },
        {
          "output_type": "error",
          "ename": "KeyboardInterrupt",
          "evalue": "ignored",
          "traceback": [
            "\u001b[0;31m---------------------------------------------------------------------------\u001b[0m",
            "\u001b[0;31mKeyboardInterrupt\u001b[0m                         Traceback (most recent call last)",
            "\u001b[0;32m<ipython-input-10-9a794d2a97bf>\u001b[0m in \u001b[0;36m<module>\u001b[0;34m()\u001b[0m\n\u001b[1;32m     13\u001b[0m   \u001b[0;31m# Publish the message\u001b[0m\u001b[0;34m\u001b[0m\u001b[0;34m\u001b[0m\u001b[0;34m\u001b[0m\u001b[0m\n\u001b[1;32m     14\u001b[0m   \u001b[0mclient\u001b[0m\u001b[0;34m.\u001b[0m\u001b[0mpublish\u001b[0m\u001b[0;34m(\u001b[0m\u001b[0;34m'bits/hyd'\u001b[0m\u001b[0;34m,\u001b[0m\u001b[0;34m\"Hi Hello, Madhu here!\"\u001b[0m\u001b[0;34m)\u001b[0m \u001b[0;31m# topic, msg\u001b[0m\u001b[0;34m\u001b[0m\u001b[0;34m\u001b[0m\u001b[0m\n\u001b[0;32m---> 15\u001b[0;31m   \u001b[0mtime\u001b[0m\u001b[0;34m.\u001b[0m\u001b[0msleep\u001b[0m\u001b[0;34m(\u001b[0m\u001b[0;36m1\u001b[0m\u001b[0;34m)\u001b[0m\u001b[0;34m\u001b[0m\u001b[0;34m\u001b[0m\u001b[0m\n\u001b[0m",
            "\u001b[0;31mKeyboardInterrupt\u001b[0m: "
          ]
        }
      ]
    },
    {
      "cell_type": "code",
      "metadata": {
        "colab": {
          "base_uri": "https://localhost:8080/",
          "height": 424
        },
        "id": "o5bNRhJwkpSj",
        "outputId": "f6c1bff5-ba06-4c0b-baa5-b6d3f5698dd0"
      },
      "source": [
        "# Subscriber Script\n",
        "import paho.mqtt.client as mqtt\n",
        "\n",
        "# Create a Client Object\n",
        "client=mqtt.Client()\n",
        "\n",
        "# Connect with Broker\n",
        "client.connect('54.171.33.166',1883) # host, port\n",
        "print('Broker Connected')\n",
        "\n",
        "# Subscribe on the same topic\n",
        "client.subscribe('bits/hyd')\n",
        "\n",
        "# create a notification service\n",
        "def notificationService(client,userdata,msg):\n",
        "  print(msg.payload) # msg - object, payload - a property \n",
        "\n",
        "# Configure this notification service\n",
        "client.on_message=notificationService\n",
        "\n",
        "# run this program forever\n",
        "client.loop_forever()\n",
        "\n",
        "\n",
        "\n"
      ],
      "execution_count": null,
      "outputs": [
        {
          "output_type": "stream",
          "text": [
            "Broker Connected\n",
            "b'Hi Hello, Jisy here!'\n"
          ],
          "name": "stdout"
        },
        {
          "output_type": "error",
          "ename": "KeyboardInterrupt",
          "evalue": "ignored",
          "traceback": [
            "\u001b[0;31m---------------------------------------------------------------------------\u001b[0m",
            "\u001b[0;31mKeyboardInterrupt\u001b[0m                         Traceback (most recent call last)",
            "\u001b[0;32m<ipython-input-5-498de96d8a43>\u001b[0m in \u001b[0;36m<module>\u001b[0;34m()\u001b[0m\n\u001b[1;32m     20\u001b[0m \u001b[0;34m\u001b[0m\u001b[0m\n\u001b[1;32m     21\u001b[0m \u001b[0;31m# run this program forever\u001b[0m\u001b[0;34m\u001b[0m\u001b[0;34m\u001b[0m\u001b[0;34m\u001b[0m\u001b[0m\n\u001b[0;32m---> 22\u001b[0;31m \u001b[0mclient\u001b[0m\u001b[0;34m.\u001b[0m\u001b[0mloop_forever\u001b[0m\u001b[0;34m(\u001b[0m\u001b[0;34m)\u001b[0m\u001b[0;34m\u001b[0m\u001b[0;34m\u001b[0m\u001b[0m\n\u001b[0m\u001b[1;32m     23\u001b[0m \u001b[0;34m\u001b[0m\u001b[0m\n\u001b[1;32m     24\u001b[0m \u001b[0;34m\u001b[0m\u001b[0m\n",
            "\u001b[0;32m/usr/local/lib/python3.7/dist-packages/paho/mqtt/client.py\u001b[0m in \u001b[0;36mloop_forever\u001b[0;34m(self, timeout, max_packets, retry_first_connection)\u001b[0m\n\u001b[1;32m   1777\u001b[0m             \u001b[0mrc\u001b[0m \u001b[0;34m=\u001b[0m \u001b[0mMQTT_ERR_SUCCESS\u001b[0m\u001b[0;34m\u001b[0m\u001b[0;34m\u001b[0m\u001b[0m\n\u001b[1;32m   1778\u001b[0m             \u001b[0;32mwhile\u001b[0m \u001b[0mrc\u001b[0m \u001b[0;34m==\u001b[0m \u001b[0mMQTT_ERR_SUCCESS\u001b[0m\u001b[0;34m:\u001b[0m\u001b[0;34m\u001b[0m\u001b[0;34m\u001b[0m\u001b[0m\n\u001b[0;32m-> 1779\u001b[0;31m                 \u001b[0mrc\u001b[0m \u001b[0;34m=\u001b[0m \u001b[0mself\u001b[0m\u001b[0;34m.\u001b[0m\u001b[0mloop\u001b[0m\u001b[0;34m(\u001b[0m\u001b[0mtimeout\u001b[0m\u001b[0;34m,\u001b[0m \u001b[0mmax_packets\u001b[0m\u001b[0;34m)\u001b[0m\u001b[0;34m\u001b[0m\u001b[0;34m\u001b[0m\u001b[0m\n\u001b[0m\u001b[1;32m   1780\u001b[0m                 \u001b[0;31m# We don't need to worry about locking here, because we've\u001b[0m\u001b[0;34m\u001b[0m\u001b[0;34m\u001b[0m\u001b[0;34m\u001b[0m\u001b[0m\n\u001b[1;32m   1781\u001b[0m                 \u001b[0;31m# either called loop_forever() when in single threaded mode, or\u001b[0m\u001b[0;34m\u001b[0m\u001b[0;34m\u001b[0m\u001b[0;34m\u001b[0m\u001b[0m\n",
            "\u001b[0;32m/usr/local/lib/python3.7/dist-packages/paho/mqtt/client.py\u001b[0m in \u001b[0;36mloop\u001b[0;34m(self, timeout, max_packets)\u001b[0m\n\u001b[1;32m   1165\u001b[0m         \u001b[0mrlist\u001b[0m \u001b[0;34m=\u001b[0m \u001b[0;34m[\u001b[0m\u001b[0mself\u001b[0m\u001b[0;34m.\u001b[0m\u001b[0m_sock\u001b[0m\u001b[0;34m,\u001b[0m \u001b[0mself\u001b[0m\u001b[0;34m.\u001b[0m\u001b[0m_sockpairR\u001b[0m\u001b[0;34m]\u001b[0m\u001b[0;34m\u001b[0m\u001b[0;34m\u001b[0m\u001b[0m\n\u001b[1;32m   1166\u001b[0m         \u001b[0;32mtry\u001b[0m\u001b[0;34m:\u001b[0m\u001b[0;34m\u001b[0m\u001b[0;34m\u001b[0m\u001b[0m\n\u001b[0;32m-> 1167\u001b[0;31m             \u001b[0msocklist\u001b[0m \u001b[0;34m=\u001b[0m \u001b[0mselect\u001b[0m\u001b[0;34m.\u001b[0m\u001b[0mselect\u001b[0m\u001b[0;34m(\u001b[0m\u001b[0mrlist\u001b[0m\u001b[0;34m,\u001b[0m \u001b[0mwlist\u001b[0m\u001b[0;34m,\u001b[0m \u001b[0;34m[\u001b[0m\u001b[0;34m]\u001b[0m\u001b[0;34m,\u001b[0m \u001b[0mtimeout\u001b[0m\u001b[0;34m)\u001b[0m\u001b[0;34m\u001b[0m\u001b[0;34m\u001b[0m\u001b[0m\n\u001b[0m\u001b[1;32m   1168\u001b[0m         \u001b[0;32mexcept\u001b[0m \u001b[0mTypeError\u001b[0m\u001b[0;34m:\u001b[0m\u001b[0;34m\u001b[0m\u001b[0;34m\u001b[0m\u001b[0m\n\u001b[1;32m   1169\u001b[0m             \u001b[0;31m# Socket isn't correct type, in likelihood connection is lost\u001b[0m\u001b[0;34m\u001b[0m\u001b[0;34m\u001b[0m\u001b[0;34m\u001b[0m\u001b[0m\n",
            "\u001b[0;31mKeyboardInterrupt\u001b[0m: "
          ]
        }
      ]
    },
    {
      "cell_type": "code",
      "metadata": {
        "colab": {
          "base_uri": "https://localhost:8080/",
          "height": 559
        },
        "id": "mh8MWfPXufVu",
        "outputId": "d511515c-74ac-4cb7-c027-9572ff03a498"
      },
      "source": [
        "import paho.mqtt.client as mqtt\n",
        "\n",
        "client=mqtt.Client()\n",
        "a=input('Enter UserID: ') # 123\n",
        "while True:\n",
        "  k=input('Enter message: ') # on\n",
        "  client.connect('broker.hivemq.com',1883)\n",
        "  print('Broker Connected')\n",
        "  client.publish('bits/hyd',a+','+k) # 123,on\n",
        "  print('Msg Sent')"
      ],
      "execution_count": null,
      "outputs": [
        {
          "output_type": "error",
          "ename": "KeyboardInterrupt",
          "evalue": "ignored",
          "traceback": [
            "\u001b[0;31m---------------------------------------------------------------------------\u001b[0m",
            "\u001b[0;31mKeyboardInterrupt\u001b[0m                         Traceback (most recent call last)",
            "\u001b[0;32m/usr/local/lib/python3.7/dist-packages/ipykernel/kernelbase.py\u001b[0m in \u001b[0;36m_input_request\u001b[0;34m(self, prompt, ident, parent, password)\u001b[0m\n\u001b[1;32m    728\u001b[0m             \u001b[0;32mtry\u001b[0m\u001b[0;34m:\u001b[0m\u001b[0;34m\u001b[0m\u001b[0;34m\u001b[0m\u001b[0m\n\u001b[0;32m--> 729\u001b[0;31m                 \u001b[0mident\u001b[0m\u001b[0;34m,\u001b[0m \u001b[0mreply\u001b[0m \u001b[0;34m=\u001b[0m \u001b[0mself\u001b[0m\u001b[0;34m.\u001b[0m\u001b[0msession\u001b[0m\u001b[0;34m.\u001b[0m\u001b[0mrecv\u001b[0m\u001b[0;34m(\u001b[0m\u001b[0mself\u001b[0m\u001b[0;34m.\u001b[0m\u001b[0mstdin_socket\u001b[0m\u001b[0;34m,\u001b[0m \u001b[0;36m0\u001b[0m\u001b[0;34m)\u001b[0m\u001b[0;34m\u001b[0m\u001b[0;34m\u001b[0m\u001b[0m\n\u001b[0m\u001b[1;32m    730\u001b[0m             \u001b[0;32mexcept\u001b[0m \u001b[0mException\u001b[0m\u001b[0;34m:\u001b[0m\u001b[0;34m\u001b[0m\u001b[0;34m\u001b[0m\u001b[0m\n",
            "\u001b[0;32m/usr/local/lib/python3.7/dist-packages/jupyter_client/session.py\u001b[0m in \u001b[0;36mrecv\u001b[0;34m(self, socket, mode, content, copy)\u001b[0m\n\u001b[1;32m    802\u001b[0m         \u001b[0;32mtry\u001b[0m\u001b[0;34m:\u001b[0m\u001b[0;34m\u001b[0m\u001b[0;34m\u001b[0m\u001b[0m\n\u001b[0;32m--> 803\u001b[0;31m             \u001b[0mmsg_list\u001b[0m \u001b[0;34m=\u001b[0m \u001b[0msocket\u001b[0m\u001b[0;34m.\u001b[0m\u001b[0mrecv_multipart\u001b[0m\u001b[0;34m(\u001b[0m\u001b[0mmode\u001b[0m\u001b[0;34m,\u001b[0m \u001b[0mcopy\u001b[0m\u001b[0;34m=\u001b[0m\u001b[0mcopy\u001b[0m\u001b[0;34m)\u001b[0m\u001b[0;34m\u001b[0m\u001b[0;34m\u001b[0m\u001b[0m\n\u001b[0m\u001b[1;32m    804\u001b[0m         \u001b[0;32mexcept\u001b[0m \u001b[0mzmq\u001b[0m\u001b[0;34m.\u001b[0m\u001b[0mZMQError\u001b[0m \u001b[0;32mas\u001b[0m \u001b[0me\u001b[0m\u001b[0;34m:\u001b[0m\u001b[0;34m\u001b[0m\u001b[0;34m\u001b[0m\u001b[0m\n",
            "\u001b[0;32m/usr/local/lib/python3.7/dist-packages/zmq/sugar/socket.py\u001b[0m in \u001b[0;36mrecv_multipart\u001b[0;34m(self, flags, copy, track)\u001b[0m\n\u001b[1;32m    582\u001b[0m         \"\"\"\n\u001b[0;32m--> 583\u001b[0;31m         \u001b[0mparts\u001b[0m \u001b[0;34m=\u001b[0m \u001b[0;34m[\u001b[0m\u001b[0mself\u001b[0m\u001b[0;34m.\u001b[0m\u001b[0mrecv\u001b[0m\u001b[0;34m(\u001b[0m\u001b[0mflags\u001b[0m\u001b[0;34m,\u001b[0m \u001b[0mcopy\u001b[0m\u001b[0;34m=\u001b[0m\u001b[0mcopy\u001b[0m\u001b[0;34m,\u001b[0m \u001b[0mtrack\u001b[0m\u001b[0;34m=\u001b[0m\u001b[0mtrack\u001b[0m\u001b[0;34m)\u001b[0m\u001b[0;34m]\u001b[0m\u001b[0;34m\u001b[0m\u001b[0;34m\u001b[0m\u001b[0m\n\u001b[0m\u001b[1;32m    584\u001b[0m         \u001b[0;31m# have first part already, only loop while more to receive\u001b[0m\u001b[0;34m\u001b[0m\u001b[0;34m\u001b[0m\u001b[0;34m\u001b[0m\u001b[0m\n",
            "\u001b[0;32mzmq/backend/cython/socket.pyx\u001b[0m in \u001b[0;36mzmq.backend.cython.socket.Socket.recv\u001b[0;34m()\u001b[0m\n",
            "\u001b[0;32mzmq/backend/cython/socket.pyx\u001b[0m in \u001b[0;36mzmq.backend.cython.socket.Socket.recv\u001b[0;34m()\u001b[0m\n",
            "\u001b[0;32mzmq/backend/cython/socket.pyx\u001b[0m in \u001b[0;36mzmq.backend.cython.socket._recv_copy\u001b[0;34m()\u001b[0m\n",
            "\u001b[0;32m/usr/local/lib/python3.7/dist-packages/zmq/backend/cython/checkrc.pxd\u001b[0m in \u001b[0;36mzmq.backend.cython.checkrc._check_rc\u001b[0;34m()\u001b[0m\n",
            "\u001b[0;31mKeyboardInterrupt\u001b[0m: ",
            "\nDuring handling of the above exception, another exception occurred:\n",
            "\u001b[0;31mKeyboardInterrupt\u001b[0m                         Traceback (most recent call last)",
            "\u001b[0;32m<ipython-input-10-e17f7e6d6a08>\u001b[0m in \u001b[0;36m<module>\u001b[0;34m()\u001b[0m\n\u001b[1;32m      4\u001b[0m \u001b[0ma\u001b[0m\u001b[0;34m=\u001b[0m\u001b[0minput\u001b[0m\u001b[0;34m(\u001b[0m\u001b[0;34m'Enter UserID: '\u001b[0m\u001b[0;34m)\u001b[0m \u001b[0;31m# 123\u001b[0m\u001b[0;34m\u001b[0m\u001b[0;34m\u001b[0m\u001b[0m\n\u001b[1;32m      5\u001b[0m \u001b[0;32mwhile\u001b[0m \u001b[0;32mTrue\u001b[0m\u001b[0;34m:\u001b[0m\u001b[0;34m\u001b[0m\u001b[0;34m\u001b[0m\u001b[0m\n\u001b[0;32m----> 6\u001b[0;31m   \u001b[0mk\u001b[0m\u001b[0;34m=\u001b[0m\u001b[0minput\u001b[0m\u001b[0;34m(\u001b[0m\u001b[0;34m'Enter message: '\u001b[0m\u001b[0;34m)\u001b[0m \u001b[0;31m# on\u001b[0m\u001b[0;34m\u001b[0m\u001b[0;34m\u001b[0m\u001b[0m\n\u001b[0m\u001b[1;32m      7\u001b[0m   \u001b[0mclient\u001b[0m\u001b[0;34m.\u001b[0m\u001b[0mconnect\u001b[0m\u001b[0;34m(\u001b[0m\u001b[0;34m'broker.hivemq.com'\u001b[0m\u001b[0;34m,\u001b[0m\u001b[0;36m1883\u001b[0m\u001b[0;34m)\u001b[0m\u001b[0;34m\u001b[0m\u001b[0;34m\u001b[0m\u001b[0m\n\u001b[1;32m      8\u001b[0m   \u001b[0mprint\u001b[0m\u001b[0;34m(\u001b[0m\u001b[0;34m'Broker Connected'\u001b[0m\u001b[0;34m)\u001b[0m\u001b[0;34m\u001b[0m\u001b[0;34m\u001b[0m\u001b[0m\n",
            "\u001b[0;32m/usr/local/lib/python3.7/dist-packages/ipykernel/kernelbase.py\u001b[0m in \u001b[0;36mraw_input\u001b[0;34m(self, prompt)\u001b[0m\n\u001b[1;32m    702\u001b[0m             \u001b[0mself\u001b[0m\u001b[0;34m.\u001b[0m\u001b[0m_parent_ident\u001b[0m\u001b[0;34m,\u001b[0m\u001b[0;34m\u001b[0m\u001b[0;34m\u001b[0m\u001b[0m\n\u001b[1;32m    703\u001b[0m             \u001b[0mself\u001b[0m\u001b[0;34m.\u001b[0m\u001b[0m_parent_header\u001b[0m\u001b[0;34m,\u001b[0m\u001b[0;34m\u001b[0m\u001b[0;34m\u001b[0m\u001b[0m\n\u001b[0;32m--> 704\u001b[0;31m             \u001b[0mpassword\u001b[0m\u001b[0;34m=\u001b[0m\u001b[0;32mFalse\u001b[0m\u001b[0;34m,\u001b[0m\u001b[0;34m\u001b[0m\u001b[0;34m\u001b[0m\u001b[0m\n\u001b[0m\u001b[1;32m    705\u001b[0m         )\n\u001b[1;32m    706\u001b[0m \u001b[0;34m\u001b[0m\u001b[0m\n",
            "\u001b[0;32m/usr/local/lib/python3.7/dist-packages/ipykernel/kernelbase.py\u001b[0m in \u001b[0;36m_input_request\u001b[0;34m(self, prompt, ident, parent, password)\u001b[0m\n\u001b[1;32m    732\u001b[0m             \u001b[0;32mexcept\u001b[0m \u001b[0mKeyboardInterrupt\u001b[0m\u001b[0;34m:\u001b[0m\u001b[0;34m\u001b[0m\u001b[0;34m\u001b[0m\u001b[0m\n\u001b[1;32m    733\u001b[0m                 \u001b[0;31m# re-raise KeyboardInterrupt, to truncate traceback\u001b[0m\u001b[0;34m\u001b[0m\u001b[0;34m\u001b[0m\u001b[0;34m\u001b[0m\u001b[0m\n\u001b[0;32m--> 734\u001b[0;31m                 \u001b[0;32mraise\u001b[0m \u001b[0mKeyboardInterrupt\u001b[0m\u001b[0;34m\u001b[0m\u001b[0;34m\u001b[0m\u001b[0m\n\u001b[0m\u001b[1;32m    735\u001b[0m             \u001b[0;32melse\u001b[0m\u001b[0;34m:\u001b[0m\u001b[0;34m\u001b[0m\u001b[0;34m\u001b[0m\u001b[0m\n\u001b[1;32m    736\u001b[0m                 \u001b[0;32mbreak\u001b[0m\u001b[0;34m\u001b[0m\u001b[0;34m\u001b[0m\u001b[0m\n",
            "\u001b[0;31mKeyboardInterrupt\u001b[0m: "
          ]
        }
      ]
    },
    {
      "cell_type": "markdown",
      "metadata": {
        "id": "V2V-7TkC_8Qg"
      },
      "source": [
        "# Uploading Data to Thingspeak"
      ]
    },
    {
      "cell_type": "code",
      "metadata": {
        "id": "_qlLe-uU2Keg"
      },
      "source": [
        "# DHT11 -> Arduino -> RPi (USB) - Pub -> MQTT Broker -> Sub (Google Colab)\n",
        "\n",
        "import paho.mqtt.client as mqtt\n",
        "import urllib.request as url\n",
        "\n",
        "cloud_api='https://api.thingspeak.com/update?api_key=ZX82MU67SO1M5JHJ&field1='\n",
        "# create a client object\n",
        "client=mqtt.Client()\n",
        "\n",
        "# connect with broker\n",
        "client.connect('broker.hivemq.com',1883)\n",
        "print('Broker Connected')\n",
        "\n",
        "# Subscribe\n",
        "client.subscribe('bits/dht11')\n",
        "\n",
        "# create a notification function\n",
        "def notify(client,userdata,msg):\n",
        "  global cloud_api\n",
        "  t=msg.payload.decode('utf-8') # string\n",
        "  t=t.split(',') # list of strings\n",
        "  #print(t)\n",
        "  temp=float(t[0][1:])\n",
        "  hum=float(t[1])\n",
        "  print(\"Temp: {0}\".format(temp));\n",
        "  print(\"Hum: {0}\".format(hum))\n",
        "  cloud_api=cloud_api+str(temp)+'&field2='+str(hum)\n",
        "  k=url.urlopen(cloud_api)\n",
        "  print(k)\n",
        "\n",
        "# configure this notify\n",
        "client.on_message=notify\n",
        "client.loop_forever()"
      ],
      "execution_count": null,
      "outputs": []
    },
    {
      "cell_type": "markdown",
      "metadata": {
        "id": "kP5mxS5CABvz"
      },
      "source": [
        "# Downloading Data from Thingspeak"
      ]
    },
    {
      "cell_type": "code",
      "metadata": {
        "id": "K3XzSPE3AFjR"
      },
      "source": [
        "# User (Participant) -> Thingspeak IoT Cloud -> Download -> RPi -> Arduino -> Relay -> Bulb\n",
        "\n",
        "import urllib.request as url\n",
        "\n",
        "cloud_api='https://api.thingspeak.com/update?api_key=FQURF1VPRATGB37O&field1='\n",
        "\n",
        "while True:\n",
        "  k=input('Enter message: ')\n",
        "  if(k=='on' or k=='ON'):\n",
        "    a=cloud_api+'on'\n",
        "    t=url.urlopen(a)\n",
        "    print(t)\n",
        "  elif(k=='off' or k=='OFF'):\n",
        "    a=cloud_api+'off'\n",
        "    t=url.urlopen(a)\n",
        "    print(t)\n"
      ],
      "execution_count": null,
      "outputs": []
    },
    {
      "cell_type": "code",
      "metadata": {
        "id": "J-XjGcPz284T"
      },
      "source": [
        "# DHT11 -> Arduino -> RPi (Pub) -> Mosquitto (AWS) -> AWS (Sub) -> MongoDB\n",
        " "
      ],
      "execution_count": null,
      "outputs": []
    }
  ]
}